{
 "cells": [
  {
   "cell_type": "markdown",
   "metadata": {},
   "source": [
    "## Loading Model from transformer - HugginFace"
   ]
  },
  {
   "cell_type": "code",
   "execution_count": 1,
   "metadata": {},
   "outputs": [],
   "source": [
    "from transformers import AutoModel, AutoTokenizer\n",
    "\n",
    "tokenizer = AutoTokenizer.from_pretrained('ucaslcl/GOT-OCR2_0', trust_remote_code=True)\n",
    "model = AutoModel.from_pretrained('ucaslcl/GOT-OCR2_0', trust_remote_code=True, low_cpu_mem_usage=True, device_map='cuda', use_safetensors=True, pad_token_id=tokenizer.eos_token_id)\n",
    "model = model.eval().cuda()"
   ]
  },
  {
   "cell_type": "markdown",
   "metadata": {},
   "source": [
    "## Usage\n",
    "\n",
    "```\n",
    "# input your test image\n",
    "image_file = 'xxx.jpg'\n",
    "\n",
    "# plain texts OCR\n",
    "res = model.chat(tokenizer, image_file, ocr_type='ocr')\n",
    "\n",
    "# format texts OCR:\n",
    "# res = model.chat(tokenizer, image_file, ocr_type='format')\n",
    "\n",
    "# fine-grained OCR:\n",
    "# res = model.chat(tokenizer, image_file, ocr_type='ocr', ocr_box='')\n",
    "# res = model.chat(tokenizer, image_file, ocr_type='format', ocr_box='')\n",
    "# res = model.chat(tokenizer, image_file, ocr_type='ocr', ocr_color='')\n",
    "# res = model.chat(tokenizer, image_file, ocr_type='format', ocr_color='')\n",
    "\n",
    "# multi-crop OCR:\n",
    "# res = model.chat_crop(tokenizer, image_file, ocr_type='ocr')\n",
    "# res = model.chat_crop(tokenizer, image_file, ocr_type='format')\n",
    "\n",
    "# render the formatted OCR results:\n",
    "# res = model.chat(tokenizer, image_file, ocr_type='format', render=True, save_render_file = './demo.html')\n",
    "\n",
    "print(res)\n",
    "\n",
    "```"
   ]
  },
  {
   "cell_type": "markdown",
   "metadata": {},
   "source": [
    "## Test of PDF OCR\n",
    "\n",
    "check online [demo](https://huggingface.co/spaces/stepfun-ai/GOT_official_online_demo) for more details"
   ]
  },
  {
   "cell_type": "code",
   "execution_count": 17,
   "metadata": {},
   "outputs": [],
   "source": [
    "import numpy as np\n",
    "import cv2\n",
    "from pdf2image import convert_from_path\n",
    "from datetime import datetime as dt, timedelta as td\n",
    "\n",
    "# read pdf as images and save\n",
    "images = convert_from_path(\"test_pdf_ocr/sample_file.pdf\")\n",
    "images_paths = []\n",
    "for i in range(len(images)):\n",
    "    images_paths.append(f\"test_pdf_ocr/image-{i}.jpg\")\n",
    "    cv2.imwrite(images_paths[-1],np.array(images[i]))"
   ]
  },
  {
   "cell_type": "code",
   "execution_count": 19,
   "metadata": {},
   "outputs": [
    {
     "name": "stderr",
     "output_type": "stream",
     "text": [
      "The attention mask and the pad token id were not set. As a consequence, you may observe unexpected behavior. Please pass your input's `attention_mask` to obtain reliable results.\n",
      "Setting `pad_token_id` to `eos_token_id`:151643 for open-end generation.\n"
     ]
    },
    {
     "name": "stdout",
     "output_type": "stream",
     "text": [
      "==============rendering===============\n"
     ]
    }
   ],
   "source": [
    "# read each image and read with ocr model\n",
    "for path in images_paths:\n",
    "    a = dt.now()\n",
    "    res = model.chat(tokenizer, path, ocr_type='format', render=True, save_render_file = path.replace('.jpg','.html'))\n",
    "    b = dt.now()\n",
    "    with open(path.replace(\".jpg\",f\"_{round((b-a).total_seconds(),2)}.txt\"),\"w\") as f:\n",
    "        f.write(res)"
   ]
  },
  {
   "cell_type": "markdown",
   "metadata": {},
   "source": [
    "## Test of PDF OCR Format as paper\n",
    "\n",
    "Check the paper!\n",
    "\n",
    "You can download any other paper!\n",
    "\n",
    "```\n",
    "@conference{visapp23,\n",
    "author={Emmanuel Morán. and Boris Vintimilla. and Miguel Realpe.},\n",
    "title={Towards a Robust Solution for the Supermarket Shelf Audit Problem},\n",
    "booktitle={Proceedings of the 18th International Joint Conference on Computer Vision, Imaging and Computer Graphics Theory and Applications (VISIGRAPP 2023) - Volume 4: VISAPP},\n",
    "year={2023},\n",
    "pages={912-919},\n",
    "publisher={SciTePress},\n",
    "organization={INSTICC},\n",
    "doi={10.5220/0011747000003417},\n",
    "isbn={978-989-758-634-7},\n",
    "issn={2184-4321},\n",
    "}\n",
    "```"
   ]
  },
  {
   "cell_type": "code",
   "execution_count": 20,
   "metadata": {},
   "outputs": [],
   "source": [
    "import numpy as np\n",
    "import cv2\n",
    "from pdf2image import convert_from_path\n",
    "from datetime import datetime as dt, timedelta as td\n",
    "\n",
    "# read pdf as images and save\n",
    "images = convert_from_path(\"test_pdf_paper_format_ocr/117470.pdf\")\n",
    "images_paths = []\n",
    "for i in range(len(images)):\n",
    "    images_paths.append(f\"test_pdf_paper_format_ocr/image-{i}.jpg\")\n",
    "    cv2.imwrite(images_paths[-1],np.array(images[i]))"
   ]
  },
  {
   "cell_type": "code",
   "execution_count": 22,
   "metadata": {},
   "outputs": [
    {
     "name": "stderr",
     "output_type": "stream",
     "text": [
      "The attention mask and the pad token id were not set. As a consequence, you may observe unexpected behavior. Please pass your input's `attention_mask` to obtain reliable results.\n",
      "Setting `pad_token_id` to `eos_token_id`:151643 for open-end generation.\n"
     ]
    },
    {
     "name": "stdout",
     "output_type": "stream",
     "text": [
      "==============rendering===============\n"
     ]
    }
   ],
   "source": [
    "    \n",
    "# read each image and read with ocr model\n",
    "for path in images_paths:\n",
    "    a = dt.now()\n",
    "    res = model.chat(tokenizer, path, ocr_type='format', render=True, save_render_file = path.replace('.jpg','.html'))\n",
    "    b = dt.now()\n",
    "    with open(path.replace(\".jpg\",f\"_{round((b-a).total_seconds(),2)}.txt\"),\"w\") as f:\n",
    "        f.write(res)"
   ]
  }
 ],
 "metadata": {
  "kernelspec": {
   "display_name": "ocr",
   "language": "python",
   "name": "python3"
  },
  "language_info": {
   "codemirror_mode": {
    "name": "ipython",
    "version": 3
   },
   "file_extension": ".py",
   "mimetype": "text/x-python",
   "name": "python",
   "nbconvert_exporter": "python",
   "pygments_lexer": "ipython3",
   "version": "3.12.3"
  }
 },
 "nbformat": 4,
 "nbformat_minor": 2
}
